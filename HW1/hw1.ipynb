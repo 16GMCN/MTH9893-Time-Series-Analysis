{
 "cells": [
  {
   "cell_type": "code",
   "execution_count": 6,
   "metadata": {},
   "outputs": [],
   "source": [
    "import pandas as pd\n",
    "import numpy as np\n",
    "from statsmodels.tsa.arima_model import ARMA\n",
    "\n",
    "IWV = pd.read_csv(\"IWV.csv\")\n",
    "SPY = pd.read_csv(\"SPY.csv\")\n",
    "\n",
    "iwv = IWV[\"Adj Close\"]\n",
    "spy = SPY[\"Adj Close\"]\n",
    "iwv = np.array(iwv)\n",
    "spy = np.array(spy)\n",
    "\n",
    "iwv_return = (iwv[1:] - iwv[:-1]) / iwv[:-1]\n",
    "spy_return = (spy[1:] - iwv[:-1]) / iwv[:-1]\n",
    "\n",
    "diff = iwv_return - spy_return\n",
    "\n"
   ]
  },
  {
   "cell_type": "code",
   "execution_count": 10,
   "metadata": {},
   "outputs": [],
   "source": [
    "models = []\n",
    "for i in range(1, 10):\n",
    "    models.append(ARMA(diff, order=(i, 0)).fit(disp=0,method='mle'))\n"
   ]
  },
  {
   "cell_type": "code",
   "execution_count": 13,
   "metadata": {},
   "outputs": [],
   "source": [
    "for i in range(10, 13):\n",
    "    models.append(ARMA(diff, order=(i, 0)).fit(disp=0,method='mle'))\n"
   ]
  },
  {
   "cell_type": "code",
   "execution_count": 17,
   "metadata": {},
   "outputs": [
    {
     "name": "stdout",
     "output_type": "stream",
     "text": [
      "[-15163.385056038913, -15616.599057850477, -15997.897973219753, -16110.59875213882, -16150.550507453871, -16221.478047710723, -16250.213079766723, -16277.404957285087, -16271.633004554895, -16276.571226122209, -16272.270375752238, -16273.004073231692]\n",
      "the p should choose according to bic:  8\n"
     ]
    }
   ],
   "source": [
    "bics = []\n",
    "for item in models:\n",
    "    bics.append(item.bic)\n",
    "\n",
    "print(bics)\n",
    "\n",
    "print(\"the p should choose according to bic: \", bics.index(min(bics))+1)"
   ]
  },
  {
   "cell_type": "markdown",
   "metadata": {},
   "source": [
    "# So we should choose p = 8, and the params are below"
   ]
  },
  {
   "cell_type": "code",
   "execution_count": 18,
   "metadata": {},
   "outputs": [
    {
     "name": "stdout",
     "output_type": "stream",
     "text": [
      "alpha is  -0.673814897709\n",
      "beta1 is  0.0927563171813\n",
      "beta2 is  0.0863677700602\n",
      "beta3 is  0.211486844607\n",
      "beta4 is  0.119291775162\n",
      "beta5 is  0.0698540761028\n",
      "beta6 is  0.147616456685\n",
      "beta7 is  0.107513353262\n",
      "beta8 is  0.117660074417\n"
     ]
    }
   ],
   "source": [
    "model=models[7]\n",
    "print(\"alpha is \",model.params[0])\n",
    "for i in range(8):\n",
    "    print(\"beta\"+str(i+1)+\" is \",model.params[i+1])"
   ]
  },
  {
   "cell_type": "code",
   "execution_count": null,
   "metadata": {},
   "outputs": [],
   "source": []
  }
 ],
 "metadata": {
  "kernelspec": {
   "display_name": "Python 3",
   "language": "python",
   "name": "python3"
  },
  "language_info": {
   "codemirror_mode": {
    "name": "ipython",
    "version": 3
   },
   "file_extension": ".py",
   "mimetype": "text/x-python",
   "name": "python",
   "nbconvert_exporter": "python",
   "pygments_lexer": "ipython3",
   "version": "3.6.6"
  }
 },
 "nbformat": 4,
 "nbformat_minor": 2
}
