{
 "cells": [
  {
   "cell_type": "markdown",
   "metadata": {},
   "source": [
    "### Time Series Analysis- GroupH - Assignment 2###"
   ]
  },
  {
   "cell_type": "markdown",
   "metadata": {},
   "source": [
    "### Group H: Shenyi Mao, Yueting Jiang, Chenyu Zhao, Jose Ferreira###"
   ]
  },
  {
   "cell_type": "markdown",
   "metadata": {},
   "source": [
    "#### Question 1####"
   ]
  },
  {
   "cell_type": "code",
   "execution_count": null,
   "metadata": {},
   "outputs": [],
   "source": [
    "%matplotlib inline\n",
    "\n",
    "import numpy as np \n",
    "import matplotlib.pyplot as plt \n",
    "from statsmodels.tsa.ar_model import AR\n",
    "from statsmodels.tsa.arima_model import ARMA\n",
    "import statsmodels as sm\n",
    "import pandas as pd\n"
   ]
  },
  {
   "cell_type": "code",
   "execution_count": 108,
   "metadata": {},
   "outputs": [
    {
     "name": "stdout",
     "output_type": "stream",
     "text": [
      "T =  100 ,(alpha,beta,sigma) =  [0.10241538058311464, 0.28312476213647214, 0.0049514904970677188]\n",
      "T =  250 ,(alpha,beta,sigma) =  [0.10097452949004188, 0.29320326339540786, 0.0049713902146183864]\n",
      "T =  1250 ,(alpha,beta,sigma) =  [0.10023299069636014, 0.29832697193039043, 0.0049939568100829893]\n"
     ]
    }
   ],
   "source": [
    "#Simulate AR(1) \n",
    "alpha=0.1 \n",
    "beta = 0.3\n",
    "sigma=0.005\n",
    "T_list=[100,250,1250]\n",
    "N = 2000\n",
    "\n",
    "\n",
    "for T in T_list:\n",
    "    alpha_sum = 0\n",
    "    beta_sum = 0\n",
    "    sigma_sum = 0\n",
    "    for i in range(0,N):\n",
    "        x0=alpha/(1-beta) \n",
    "        x=np.zeros(T+1) \n",
    "        x[0]=x0\n",
    "        eps=np.random.normal(0.0,sigma,T)\n",
    "        for i in range(1,T+1):\n",
    "            x[i]=alpha+beta*x[i-1]+eps[i-1]\n",
    "                \n",
    "        y=x[0:T]\n",
    "        yp=x[1:(T+1)]\n",
    "        m=np.sum(y)/T\n",
    "        mp=np.sum(yp)/T\n",
    "        betaCMLE=np.inner(y-m,yp-mp)/np.inner(y-m,y-m)\n",
    "        alphaCMLE=mp-betaCMLE*m\n",
    "        sigmaCMLE=np.sqrt(np.inner(yp-betaCMLE*y-alphaCMLE,\n",
    "                                  yp-betaCMLE*y-alphaCMLE)/T)\n",
    "\n",
    "        alpha_sum += alphaCMLE\n",
    "        beta_sum += betaCMLE\n",
    "        sigma_sum += sigmaCMLE\n",
    "                \n",
    "\n",
    "\n",
    "    alpha_hat = alpha_sum / N\n",
    "    beta_hat = beta_sum / N \n",
    "    sigma_hat = sigma_sum / N\n",
    "    print(\"T = \", T, \",(alpha,beta,sigma) = \" ,[alpha_hat,beta_hat,sigma_hat])"
   ]
  },
  {
   "cell_type": "markdown",
   "metadata": {},
   "source": [
    "+ $ Comment$\n",
    "\n",
    "+ We run simulations N(=2000) times to give T(=100,250,1250) observations from the given AR(1) model and then fit the observartions into AR(1) to give the average MLE estimates. \n",
    "+ The output is: \n",
    "$$ T = 100, [\\hat \\alpha , \\hat \\beta, \\hat \\sigma]=  [0.102415,0.283124,0.00495149] $$\n",
    "$$ T = 250, [\\hat \\alpha , \\hat \\beta, \\hat \\sigma]=  [0.100974,0.293203,0.00497139] $$\n",
    "$$ T = 1250, [\\hat \\alpha , \\hat \\beta, \\hat \\sigma]=  [0.100232,0.298326,0.00499396] $$\n",
    "we can see that the estimates are biased compare with the given parameters \n",
    "$$ [\\alpha ,\\beta, \\sigma] = [0.1,0.3,0.005 ]$$\n",
    "+ for these biased estimates,we can see that when T goes larger, the bias get smaller because the error is O($\\frac{1}{N}$),which means that they are consistant. "
   ]
  },
  {
   "cell_type": "markdown",
   "metadata": {},
   "source": [
    "#### Question 2####"
   ]
  },
  {
   "cell_type": "code",
   "execution_count": 7,
   "metadata": {},
   "outputs": [],
   "source": [
    "import numpy as np\n",
    "import pandas as pd\n",
    "import matplotlib.pyplot as plt\n",
    "from statsmodels.tsa.stattools import adfuller"
   ]
  },
  {
   "cell_type": "code",
   "execution_count": 37,
   "metadata": {},
   "outputs": [],
   "source": [
    "def perform_adf_test(xt):\n",
    "    \"\"\"\n",
    "    input:  a timeseries \n",
    "    output: outputs the statistic values from the ADF test  \n",
    "    \"\"\"\n",
    "    test = adfuller(xt)\n",
    "    print('ADF Statistic: %f' % test[0])\n",
    "    print('p-value: %f' % test[1])\n",
    "    for key, value in test[4].items():\n",
    "        print('\\t%s: %.3f' % (key, value))\n",
    "    \n",
    "def plot_series(eur, diff_rates):\n",
    "    plt.figure()\n",
    "    plt.plot(eur,label='EUR')\n",
    "    plt.plot(diff_rates,label='Rates differential')\n",
    "    plt.title('EUR/USD')\n",
    "    plt.xlabel('Date')\n",
    "    plt.ylabel('Last')\n",
    "    plt.legend()\n",
    "    plt.show()\n",
    "\n",
    "def plot_coint_residual(u):\n",
    "    plt.figure()\n",
    "    plt.plot(u,label='Cointegrating residual')\n",
    "    plt.title('EUR/USD - (FED-ECB)')\n",
    "    plt.xlabel('Date')\n",
    "    plt.ylabel('Last')\n",
    "    plt.legend()\n",
    "    plt.show()   "
   ]
  },
  {
   "cell_type": "code",
   "execution_count": 54,
   "metadata": {},
   "outputs": [],
   "source": [
    "def perform_engle_granger_test(eur, diff_rates, coint_residual, confidence):\n",
    "    \"\"\"\n",
    "    input:  the two series, a cointegrating residual vector and the level of confidence for the statistic tests\n",
    "    output: True if the series are cointegrated  \n",
    "    \"\"\"\n",
    "    # run Dickey-Fuller on each series separately to check if they are I(d).\n",
    "    print(\"EURUSD\")\n",
    "    eur_p = perform_adf_test(eur)\n",
    "    print(\"Diff\")\n",
    "    diff_p = perform_adf_test(diff_rates)\n",
    "    # this should be stationary\n",
    "    print(\"delta EURUSD\")\n",
    "    lagged_eur = eur.diff().dropna()\n",
    "    lag_eur_p = perform_adf_test(lagged_eur)\n",
    "        \n",
    "    # this too should be stationary\n",
    "    print(\"delta rates\")\n",
    "    lagged_rates = diff_rates.diff().dropna()\n",
    "    lag_rates_p = perform_adf_test(lagged_rates)\n",
    "    \n",
    "     \n",
    "    \n",
    "    # test unit root on the cointegration residual process, this would need to be stationary to say there is cointegration\n",
    "    print(\"u\")\n",
    "    perform_adf_test(coint_residual)\n",
    "    test = adfuller(coint_residual)\n",
    "    p_value=test[1]\n",
    "    if (p_value>confidence):\n",
    "        print(\"The cointegrating residual is not stationary\")\n",
    "        return False\n",
    "    \n",
    "    print (\"The series are cointegrated\")\n",
    "    return True \n"
   ]
  },
  {
   "cell_type": "code",
   "execution_count": 57,
   "metadata": {},
   "outputs": [],
   "source": [
    "def problem_2():\n",
    "    # Section 2.1: Perform a cointegration test\n",
    "    # Read data and generate time series \n",
    "    eur = pd.read_excel('HW2_Data.xlsx', sheet_name = 'EUR', \n",
    "                        index_col=0, parse_dates=True, infer_datetime_format=True)\n",
    "    fed = pd.read_excel('HW2_Data.xlsx', sheet_name = 'FEDL01', \n",
    "                        index_col=0, parse_dates=True, infer_datetime_format=True)\n",
    "    ecb = pd.read_excel('HW2_Data.xlsx', sheet_name = 'EUORDEPOT', \n",
    "                        index_col=0, parse_dates=True, infer_datetime_format=True)\n",
    "    \n",
    "    diff = fed - ecb\n",
    "    \n",
    "    plot_series(eur, diff)\n",
    "    eur_rates = eur['Last Price'].dropna()\n",
    "    diff_interest_rates = diff['Last Price'].dropna()\n",
    "    merged_data = pd.concat([eur_rates.rename('eur'), diff_interest_rates.rename('rates')], axis=1)\n",
    "    print(merged_data.head())\n",
    "    clean_data = merged_data.dropna()\n",
    "    u = (clean_data['rates'] - clean_data['eur'])\n",
    "    \n",
    "    plot_coint_residual(u)\n",
    "\n",
    "    perform_engle_granger_test(eur_rates, diff_interest_rates, u, confidence=0.05)\n",
    "    \n",
    "    \n",
    "    \n",
    "    "
   ]
  },
  {
   "cell_type": "code",
   "execution_count": 58,
   "metadata": {},
   "outputs": [
    {
     "data": {
      "image/png": "[encoded data removed]",
      "text/plain": [
       "<Figure size 432x288 with 1 Axes>"
      ]
     },
     "metadata": {},
     "output_type": "display_data"
    },
    {
     "name": "stdout",
     "output_type": "stream",
     "text": [
      "               eur  rates\n",
      "Date                     \n",
      "2003-09-11  1.1210   0.00\n",
      "2003-09-12  1.1291   0.02\n",
      "2003-09-15  1.1284   0.11\n",
      "2003-09-16  1.1177  -0.03\n",
      "2003-09-17  1.1285  -0.03\n"
     ]
    },
    {
     "data": {
      "image/png": "[encoded data removed]",
      "text/plain": [
       "<Figure size 432x288 with 1 Axes>"
      ]
     },
     "metadata": {},
     "output_type": "display_data"
    },
    {
     "name": "stdout",
     "output_type": "stream",
     "text": [
      "EURUSD\n",
      "ADF Statistic: -1.966646\n",
      "p-value: 0.301386\n",
      "\t5%: -2.862\n",
      "\t1%: -3.432\n",
      "\t10%: -2.567\n",
      "Diff\n",
      "ADF Statistic: -1.016293\n",
      "p-value: 0.747276\n",
      "\t5%: -2.862\n",
      "\t1%: -3.432\n",
      "\t10%: -2.567\n",
      "delta EURUSD\n",
      "ADF Statistic: -62.279418\n",
      "p-value: 0.000000\n",
      "\t5%: -2.862\n",
      "\t1%: -3.432\n",
      "\t10%: -2.567\n",
      "delta rates\n",
      "ADF Statistic: -9.600190\n",
      "p-value: 0.000000\n",
      "\t5%: -2.862\n",
      "\t1%: -3.432\n",
      "\t10%: -2.567\n",
      "u\n",
      "ADF Statistic: -0.930077\n",
      "p-value: 0.777906\n",
      "\t5%: -2.862\n",
      "\t1%: -3.432\n",
      "\t10%: -2.567\n",
      "The cointegrating residual is not stationary\n"
     ]
    }
   ],
   "source": [
    "problem_2()"
   ]
  },
  {
   "cell_type": "markdown",
   "metadata": {},
   "source": [
    "$Comment$\n",
    "\n",
    "First, we run ADF on EURUUSD, the short interest difference  between Fed and ECB. The test result shows that both series are not stationary at 5% significance level. And the first difference of both series are stationary at 5% significance level. Thus we can conclude that both series are I(1).\n",
    "\n",
    "Second, we use the given cointegration vector $\\alpha=(1,-1)$ to calculate the residual of the cointegration process $u_t$. Then we test the stationarity of the reriduals. The test shows that the residual is not stationary at 5% significance level. Thus the vector $\\alpha=(1,-1)$ is not the cointegration vector of EURUSD exchange rate and the differential between Fed and ECB short interest rates in these currencies."
   ]
  },
  {
   "cell_type": "markdown",
   "metadata": {},
   "source": [
    "#### Question 3####"
   ]
  },
  {
   "cell_type": "markdown",
   "metadata": {},
   "source": [
    "We first calculate $p(x_1,x_2,\\dots x_T|\\theta, x_0)$\n",
    "\n",
    "$$\n",
    "p(x_1,x_2,\\dots x_T|\\theta, x_0)=\\frac{1}{(2\\pi \\sigma^2)^{T/2}}\\exp (-\\frac{1}{2\\sigma^2}\\sum_{t=1}^{T}\\epsilon_t^2)\n",
    "$$"
   ]
  },
  {
   "cell_type": "markdown",
   "metadata": {},
   "source": [
    "Note that $\\hat{\\epsilon_t }=x_t-\\alpha-\\beta x_{t-1}-\\gamma_t$, follows $N(0,\\sigma^2)$, thus\n",
    "$$\n",
    "p(x_1,x_2,\\dots x_T|\\theta, x_0)=\\frac{1}{(2\\pi \\sigma^2)^{T/2}}\\exp (-\\frac{1}{2\\sigma^2}\\sum_{t=1}^{T}(x_t-\\alpha-\\beta x_{t-1}-\\gamma_t)^2)\n",
    "$$"
   ]
  },
  {
   "cell_type": "markdown",
   "metadata": {},
   "source": [
    "the log-likelihood estimation:\n",
    "$$\n",
    "-\\log L(\\theta|y)=\\frac{1}{2}T\\log \\sigma^2+\\frac{1}{2\\sigma^2}\\sum_{t=1}^T(x_t-\\hat{\\alpha}-\\hat{\\beta}x_{t-1}-\\hat{\\gamma}t)^2+constant\n",
    "$$"
   ]
  },
  {
   "cell_type": "markdown",
   "metadata": {},
   "source": [
    "Minimizing this function yields:\n",
    "\\begin{align}\n",
    "     \\begin{bmatrix}\n",
    "           \\hat{\\alpha} \\\\\n",
    "           \\hat{\\beta} \\\\\n",
    "           \\hat{\\gamma} \n",
    "       \\end{bmatrix}\n",
    "       =\n",
    "       \\begin{bmatrix}\n",
    "           T&\\sum_{t=1}^{T}x_{t-1} & \\sum_{t=1}^{T}t \\\\\n",
    "           \\sum_{t=1}^{T}x_{t-1}&\\sum_{t=1}^{T}x_{t-1}^2&\\sum_{t=1}^{T}tx_{t-1}\\\\\n",
    "           \\sum_{t=1}^{T}t& \\sum_{t=1}^{T}tx_{t-1}&\\sum_{t=1}^{T}t^2\n",
    "        \\end{bmatrix}^{-1}\n",
    "        \\begin{bmatrix}\n",
    "        \\sum_{t=1}^{T}x_t\\\\\n",
    "        \\sum_{t=1}^{T}x_tx_{t-1}\\\\\n",
    "        \\sum_{t=1}^{T}t x_t\n",
    "        \\end{bmatrix}\n",
    "  \\end{align}\n",
    " $$ \n",
    "  \\hat{\\sigma}^2=\\frac{1}{T}\\sum_{t=1}^{T}(x_t-\\hat{\\alpha}-\\hat{\\beta}x_{t-1}-\\hat{\\gamma}t)^2\n",
    "  $$"
   ]
  }
 ],
 "metadata": {
  "kernelspec": {
   "display_name": "Python 3",
   "language": "python",
   "name": "python3"
  },
  "language_info": {
   "codemirror_mode": {
    "name": "ipython",
    "version": 3
   },
   "file_extension": ".py",
   "mimetype": "text/x-python",
   "name": "python",
   "nbconvert_exporter": "python",
   "pygments_lexer": "ipython3",
   "version": "3.7.0"
  }
 },
 "nbformat": 4,
 "nbformat_minor": 2
}
