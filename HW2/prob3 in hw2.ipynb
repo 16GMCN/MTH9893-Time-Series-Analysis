{
 "cells": [
  {
   "cell_type": "markdown",
   "metadata": {},
   "source": []
  },
  {
   "cell_type": "markdown",
   "metadata": {},
   "source": [
    "We first calculate $p(x_1,x_2,\\dots x_T|\\theta, x_0)$\n",
    "\n",
    "$$\n",
    "p(x_1,x_2,\\dots x_T|\\theta, x_0)=\\frac{1}{(2\\pi \\sigma^2)^{T/2}}\\exp (-\\frac{1}{2\\sigma^2}\\sum_{t=1}^{T}\\epsilon_t^2)\n",
    "$$"
   ]
  },
  {
   "cell_type": "markdown",
   "metadata": {},
   "source": [
    "Note that $\\hat{\\epsilon_t }=x_t-\\alpha-\\beta x_{t-1}-\\gamma_t$, follows $N(0,\\sigma^2)$, thus\n",
    "$$\n",
    "p(x_1,x_2,\\dots x_T|\\theta, x_0)=\\frac{1}{(2\\pi \\sigma^2)^{T/2}}\\exp (-\\frac{1}{2\\sigma^2}\\sum_{t=1}^{T}(x_t-\\alpha-\\beta x_{t-1}-\\gamma_t)^2)\n",
    "$$"
   ]
  },
  {
   "cell_type": "markdown",
   "metadata": {},
   "source": [
    "the log-likelihood estimation:\n",
    "$$\n",
    "-\\log L(\\theta|y)=\\frac{1}{2}T\\log \\sigma^2+\\frac{1}{2\\sigma^2}\\sum_{t=1}^T(x_t-\\hat{\\alpha}-\\hat{\\beta}x_{t-1}-\\hat{\\gamma}t)^2+constant\n",
    "$$"
   ]
  },
  {
   "cell_type": "markdown",
   "metadata": {},
   "source": [
    "Minimizing this function yields:\n",
    "\\begin{align}\n",
    "     \\begin{bmatrix}\n",
    "           \\hat{\\alpha} \\\\\n",
    "           \\hat{\\beta} \\\\\n",
    "           \\hat{\\gamma} \n",
    "       \\end{bmatrix}\n",
    "       =\n",
    "       \\begin{bmatrix}\n",
    "           T&\\sum_{t=1}^{T}x_{t-1} & \\sum_{t=1}^{T}t \\\\\n",
    "           \\sum_{t=1}^{T}x_{t-1}&\\sum_{t=1}^{T}x_{t-1}^2&\\sum_{t=1}^{T}tx_{t-1}\\\\\n",
    "           \\sum_{t=1}^{T}t& \\sum_{t=1}^{T}tx_{t-1}&\\sum_{t=1}^{T}t^2\n",
    "        \\end{bmatrix}^{-1}\n",
    "        \\begin{bmatrix}\n",
    "        \\sum_{t=1}^{T}x_t\\\\\n",
    "        \\sum_{t=1}^{T}x_tx_{t-1}\\\\\n",
    "        \\sum_{t=1}^{T}t x_t\n",
    "        \\end{bmatrix}\n",
    "  \\end{align}\n",
    " $$ \n",
    "  \\hat{\\sigma}^2=\\frac{1}{T}\\sum_{t=1}^{T}(x_t-\\hat{\\alpha}-\\hat{\\beta}x_{t-1}-\\hat{\\gamma}t)^2\n",
    "  $$"
   ]
  },
  {
   "cell_type": "code",
   "execution_count": null,
   "metadata": {},
   "outputs": [],
   "source": []
  },
  {
   "cell_type": "code",
   "execution_count": null,
   "metadata": {},
   "outputs": [],
   "source": []
  }
 ],
 "metadata": {
  "kernelspec": {
   "display_name": "Python 3",
   "language": "python",
   "name": "python3"
  },
  "language_info": {
   "codemirror_mode": {
    "name": "ipython",
    "version": 3
   },
   "file_extension": ".py",
   "mimetype": "text/x-python",
   "name": "python",
   "nbconvert_exporter": "python",
   "pygments_lexer": "ipython3",
   "version": "3.6.6"
  }
 },
 "nbformat": 4,
 "nbformat_minor": 2
}
