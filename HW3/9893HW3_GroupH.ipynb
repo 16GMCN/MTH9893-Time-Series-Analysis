{
 "cells": [
  {
   "cell_type": "markdown",
   "metadata": {},
   "source": [
    "##### Homework 3 - Group H #####\n",
    "###### Shenyi Mao, Yueting Jiang, Chenyu Zhao, Jose Ferreira ######"
   ]
  },
  {
   "cell_type": "markdown",
   "metadata": {},
   "source": [
    "1. Prove the formula for the kurtosis of the GARCH(1, 1) model stated in\n",
    "Lecture Notes #2."
   ]
  },
  {
   "cell_type": "markdown",
   "metadata": {},
   "source": [
    "The GARCH(1,1) model is defined by:\n",
    "$$\n",
    "\\begin{align}\n",
    "\\epsilon_t =& \\sigma_tz_t && (1) \\\\\n",
    "\\sigma^2_t =& \\kappa + \\eta\\sigma^2_{t-1} + \\zeta\\epsilon^2_{t-1} && (2)\n",
    "\\end{align}\n",
    "$$\n",
    "\n",
    "The kurtosis is defined by $\\frac{E[\\epsilon^4_t]}{E[\\epsilon^2_t]^2}$, where\n",
    "$$\n",
    "\\begin{align}\n",
    "E[\\epsilon_t^4] =& E[\\sigma_t^4]E[z_t^4]\\\\\n",
    "=& 3E[\\sigma_t^4] && (3)\n",
    "\\end{align}\n",
    "$$"
   ]
  },
  {
   "cell_type": "markdown",
   "metadata": {},
   "source": [
    "Taking expectations from (2), noting that $\\sigma$ is independent of $t$ ($\\forall t, E(\\sigma^2_t) = \\sigma^2$ ):\n",
    "\n",
    "$$\n",
    "\\begin{align}\n",
    "&E[\\sigma^2_t] = E[\\kappa + \\eta\\sigma^2_{t-1} + \\zeta\\epsilon^2_{t-1}] \\\\\n",
    "\\implies &\\sigma^2 = \\kappa + \\eta \\sigma^2 + \\zeta\\sigma^2\\\\\n",
    "\\implies &\\sigma^2(1-\\eta-\\zeta) = \\kappa\\\\\n",
    "\\implies &\\sigma^2 = \\frac{\\kappa}{1-\\eta-\\zeta}  && (4)\n",
    "\\end{align}\n",
    "$$\n",
    "\n"
   ]
  },
  {
   "cell_type": "markdown",
   "metadata": {},
   "source": [
    "$$\n",
    "\\begin{align}\n",
    "E[\\sigma^4] = &E[(\\sigma^2)^2] \\\\ \n",
    "= &E[(\\kappa + \\eta\\sigma^2_{t-1} + \\zeta\\epsilon^2_{t-1})^2] \\\\\n",
    "= &\\kappa^2 + 2\\kappa\\eta E[\\sigma^2_{t-1}] + 2\\kappa\\zeta E[\\epsilon^2_{t-1}] + \\eta^2 E[\\sigma^4_{t-1}] + 2\\eta\\zeta E[\\sigma^2_{t-1}\\epsilon^2_{t-1}] + \\zeta^2 E[\\epsilon^4_{t-1}]\\\\\n",
    "= &\\kappa^2 + 2\\kappa\\eta\\sigma^2 + 2\\kappa\\zeta\\sigma^2 + \\eta^2 E[\\sigma^4] + 2\\eta\\zeta E[\\sigma^4] + 3\\zeta^2 E[\\sigma^4]\\\\\n",
    "\\end{align}\n",
    "$$"
   ]
  },
  {
   "cell_type": "markdown",
   "metadata": {},
   "source": [
    "$$\n",
    "\\begin{align}\n",
    "&\\implies E[\\sigma^4](1 -\\eta^2 -2\\eta\\zeta - 3\\zeta^2) = \\kappa^2 + 2\\kappa\\eta\\sigma^2 + 2\\kappa\\zeta\\sigma^2 \\\\\n",
    "&\\implies E[\\sigma^4] = \\frac{\\kappa^2 + 2\\kappa\\eta\\sigma^2 + 2\\kappa\\zeta\\sigma^2}{1 -\\eta^2 -2\\eta\\zeta - 3\\zeta^2} && (5) \\\\  \n",
    "\\end{align}\n",
    "$$"
   ]
  },
  {
   "cell_type": "markdown",
   "metadata": {},
   "source": [
    "Substituting $\\sigma^2$ for the expression in (4):\n",
    "$$\n",
    "\\begin{align}\n",
    "E[\\sigma^4] = &\\frac{\\kappa^2 + \\frac{2\\kappa^2\\eta}{1-\\eta-\\zeta} + \\frac{2\\kappa^2\\zeta}{1-\\eta-\\zeta}}{1-\\eta^2-2\\eta\\zeta - 3\\zeta^2}\\\\\n",
    "= &\\frac{\\kappa^2 \\left(1 + \\frac{2\\eta + 2\\zeta}{1-\\eta-\\zeta}\\right)}{1-\\eta^2-2\\eta\\zeta - 3\\zeta^2}\\\\\n",
    "= &\\frac{\\kappa^2 \\left(1 + \\eta + \\zeta \\right)}{(1-\\eta-\\zeta)(1-\\eta^2-2\\eta\\zeta - 3\\zeta^2)} && (6)\\\\\n",
    "\\end{align}\n",
    "$$"
   ]
  },
  {
   "cell_type": "markdown",
   "metadata": {},
   "source": [
    "The kurtosis formula is finally expressed as:\n",
    "$$\n",
    "\\begin{align}\n",
    "Kurtosis &= \\frac{E[\\epsilon^4]}{E[(\\epsilon^2)^2]}\\\\ \n",
    "&= \\frac{3E[\\sigma^4]}{(\\sigma^2)^2} \\\\\n",
    "&= 3\\frac{\\frac{\\kappa^2 \\left(1 + \\eta + \\zeta \\right)}{(1-\\eta-\\zeta)(1-\\eta^2-2\\eta\\zeta - 3\\zeta^2)}}{\\frac{\\kappa^2}{(1-\\eta-\\zeta)^2}}\\\\\n",
    "&= 3\\frac{(1-\\eta-\\zeta)(1+\\eta+\\zeta)}{1-\\eta^2-2\\eta\\zeta - 3\\zeta^2}\\\\\n",
    "&= 3\\frac{1-2\\eta\\zeta-\\eta^2-\\zeta^2}{1-\\eta^2-2\\eta\\zeta-\\zeta^2-2\\zeta^2}\\\\\n",
    "&= 3\\frac{1-(\\eta+\\zeta)^2}{1-(\\eta+\\zeta)^2-2\\zeta^2}\\\\\n",
    "\\end{align}\n",
    "$$"
   ]
  },
  {
   "cell_type": "markdown",
   "metadata": {},
   "source": [
    "The numerator is always greater than the denominator since $2\\zeta^2$ is a positive number and therefore the kurtosis of the GARCH(1,1) model is greater than 3 (fat tails)"
   ]
  },
  {
   "cell_type": "markdown",
   "metadata": {},
   "source": [
    "\n",
    "2.Carry out a detailed proof of equations (41) and (42), namely the VECM\n",
    "form of the V AR(p) model, in Lecture Notes #3."
   ]
  },
  {
   "cell_type": "markdown",
   "metadata": {},
   "source": [
    "$x_t=a+B_1 x_{t-1}+\\cdots+B_px_{t-p}+\\epsilon_t$"
   ]
  },
  {
   "cell_type": "markdown",
   "metadata": {},
   "source": [
    "$\\implies (1-B_1L-B_2L^2-\\cdots-B_pL^p)x_t=a+\\epsilon_t$"
   ]
  },
  {
   "cell_type": "markdown",
   "metadata": {},
   "source": [
    "let\n",
    "$$\n",
    "\\begin{align}\n",
    "B=&B_1+B_2+\\cdots+B_p \\\\\n",
    " \\Gamma_j=&-(B_{j+1}+\\cdots+B_p)  && j=1:p-1 \\\\\n",
    "\\end{align}\n",
    "$$"
   ]
  },
  {
   "cell_type": "markdown",
   "metadata": {},
   "source": [
    "$$\n",
    "-(\\Gamma_1L+\\cdots+\\Gamma_{p-1}L^{p-1})=(B_2+\\cdots+B_p)L+(B_3+\\cdots+B_p)L^2+\\cdots+B_pL^{p-1}\n",
    "$$"
   ]
  },
  {
   "cell_type": "markdown",
   "metadata": {},
   "source": [
    "$$\n",
    "\\implies -(1-L)(\\Gamma_1L+\\cdots+\\Gamma_{p-1}L^{p-1})=(B_2+\\cdots+B_p)L-B_2L^2-\\cdots-B_pL^p\n",
    "$$"
   ]
  },
  {
   "cell_type": "markdown",
   "metadata": {},
   "source": [
    "$$\n",
    "\\implies 1-BL-(\\Gamma_1L+\\cdots+\\Gamma_{p-1}L^{p-1})(1-L)=1-B_1L-B_2L^2-\\cdots-B_pL^p\n",
    "$$"
   ]
  },
  {
   "cell_type": "markdown",
   "metadata": {},
   "source": [
    "So\n",
    "$$\n",
    " (1-BL-(\\Gamma_1L+\\cdots+\\Gamma_{p-1}L^{p-1})(1-L))x_t=a+\\epsilon_t\n",
    "$$\n",
    "is equivalent to\n",
    "$$\n",
    "(1-B_1L-B_2L^2-\\cdots-B_pL^p)x_t=a+\\epsilon_t\n",
    "$$\n",
    "which is the VAR(p) model formula."
   ]
  },
  {
   "cell_type": "markdown",
   "metadata": {},
   "source": [
    "Since $(1-L)x_t=\\Delta x_t$, then\n",
    "$$\n",
    "\\begin{align}\n",
    "(\\Gamma_1L+\\cdots+\\Gamma_{p-1}L^{p-1})(1-L)x_t=&(\\Gamma_1L+\\cdots+\\Gamma_{p-1}L^{p-1})\\Delta x_t \\\\\n",
    "=& \\Gamma_1\\Delta x_{t-1}+\\cdots+\\Gamma_{p-1} \\Delta x_{t-p+1}\\\\\n",
    "\\end{align}\n",
    "$$"
   ]
  },
  {
   "cell_type": "markdown",
   "metadata": {},
   "source": [
    "Therefore,\n",
    "$$\n",
    " (1-BL-(\\Gamma_1L+\\cdots+\\Gamma_{p-1}L^{p-1})(1-L))x_t=a+\\epsilon_t\n",
    "$$\n",
    "\n",
    "is equivalent to \n",
    "\n",
    "$$\n",
    "x_t=a+BX_{t-1}+\\Gamma_1 \\Delta x_{t-1}+\\cdots+\\Gamma_{p-1}\\Delta x_{t-p+1}+\\epsilon_t\n",
    "$$"
   ]
  },
  {
   "cell_type": "markdown",
   "metadata": {},
   "source": [
    "3.\n",
    "Consider the last 5 years worth of daily levels of the S&P 500 index and\n",
    "the volatility VIX index. The Bloomberg symbols for these indices are SPX\n",
    "Index, and VIX Index, respectively. Design and carry out a test for\n",
    "Granger causality between these two indices."
   ]
  },
  {
   "cell_type": "markdown",
   "metadata": {},
   "source": [
    "**Procedure:**\n",
    "* Assume that the time series follow an AR(p) process, determine the level of integration by calculating the AIC up to a predetermined maximum number of lags (in the case of our exercise, 10) or analyzing the auto-correlation and partial auto-correlation graphs.\n",
    "* Perform the Granger test, using the maximum between the lag parameters found as the maximum number of lags tested. \n",
    "* If the two time-series have the same order of integration, we can test for integration as a sanity check step, we know that cointegrated series will also have a Granger-causality relation between them."
   ]
  },
  {
   "cell_type": "code",
   "execution_count": 2,
   "metadata": {},
   "outputs": [],
   "source": [
    "import pandas as pd\n",
    "xls=pd.ExcelFile('SPX_VIX_Data.xlsx')\n",
    "spx=pd.read_excel(xls,sheet_name='SPX',skiprows=[0,1,2,3,4,5],index_col=0)\n",
    "vix=pd.read_excel(xls,sheet_name='VIX',skiprows=[0,1,2,3,4,5],index_col=0)"
   ]
  },
  {
   "cell_type": "code",
   "execution_count": 3,
   "metadata": {},
   "outputs": [
    {
     "data": {
      "image/png": "[encoded data removed]",
      "text/plain": [
       "<Figure size 432x288 with 1 Axes>"
      ]
     },
     "metadata": {},
     "output_type": "display_data"
    },
    {
     "data": {
      "image/png": "[encoded data removed]",
      "text/plain": [
       "<Figure size 432x288 with 1 Axes>"
      ]
     },
     "metadata": {},
     "output_type": "display_data"
    },
    {
     "data": {
      "image/png": "[encoded data removed]",
      "text/plain": [
       "<Figure size 432x288 with 1 Axes>"
      ]
     },
     "metadata": {},
     "output_type": "display_data"
    }
   ],
   "source": [
    "import matplotlib.pyplot as plt\n",
    "import statsmodels.graphics.tsaplots as tsaplots\n",
    "from statsmodels.tsa.ar_model import AR\n",
    "import statsmodels.tsa as tsa\n",
    "import warnings\n",
    "%matplotlib inline  \n",
    "\n",
    "# plot the series and its acf and pacf graphs\n",
    "spx=spx.rename(columns={'PX_LAST':'spx'})\n",
    "plt.figure()\n",
    "plt.plot(spx.spx,label='SPX')\n",
    "plt.title('SPX')\n",
    "plt.xlabel('Time')\n",
    "plt.ylabel('Price')\n",
    "plt.legend()\n",
    "plt.show()\n",
    "_ = tsaplots.plot_acf(spx.spx,lags=60)\n",
    "_ = tsaplots.plot_pacf(spx.spx,lags=60)"
   ]
  },
  {
   "cell_type": "code",
   "execution_count": 4,
   "metadata": {},
   "outputs": [
    {
     "name": "stdout",
     "output_type": "stream",
     "text": [
      "| # Lags\t| AIC\t\t|\n",
      "--------------------------------\n",
      "| 1\t\t| 5.655007909600233|\n",
      "| 2\t\t| 5.655007909600233|\n",
      "| 3\t\t| 5.654163826818193|\n",
      "| 4\t\t| 5.6536558709144735|\n",
      "| 5\t\t| 5.6536558709144735|\n",
      "| 6\t\t| 5.654163826818193|\n",
      "| 7\t\t| 5.6536558709144735|\n",
      "| 8\t\t| 5.654288313622974|\n",
      "| 9\t\t| 5.6536558709144735|\n",
      "| 10\t\t| 5.6536558709144735|\n"
     ]
    }
   ],
   "source": [
    "#estimate lag parameter \n",
    "maxOrder = 10\n",
    "aic = {}\n",
    "print('| # Lags\\t| AIC\\t\\t|')\n",
    "print('--------------------------------')\n",
    "with warnings.catch_warnings():\n",
    "    warnings.filterwarnings(\"ignore\")\n",
    "    for i in range(1, maxOrder+1):\n",
    "        model=AR(spx.spx).fit(maxlag=i,ic='aic',method='mle')\n",
    "        aic[i] = model.aic\n",
    "        print('| ' + str(i) + '\\t\\t| ' + str(model.aic) + '|')"
   ]
  },
  {
   "cell_type": "code",
   "execution_count": 5,
   "metadata": {},
   "outputs": [
    {
     "data": {
      "image/png": "[encoded data removed]",
      "text/plain": [
       "<Figure size 432x288 with 1 Axes>"
      ]
     },
     "metadata": {},
     "output_type": "display_data"
    },
    {
     "data": {
      "image/png": "[encoded data removed]",
      "text/plain": [
       "<Figure size 432x288 with 1 Axes>"
      ]
     },
     "metadata": {},
     "output_type": "display_data"
    },
    {
     "data": {
      "image/png": "[encoded data removed]",
      "text/plain": [
       "<Figure size 432x288 with 1 Axes>"
      ]
     },
     "metadata": {},
     "output_type": "display_data"
    }
   ],
   "source": [
    "vix=vix.rename(columns={'PX_LAST':'vix'})\n",
    "plt.figure()\n",
    "plt.plot(vix.vix,label='VIX')\n",
    "plt.title('VIX')\n",
    "plt.xlabel('Time')\n",
    "plt.ylabel('Price')\n",
    "plt.legend()\n",
    "plt.show()\n",
    "_ = tsaplots.plot_acf(vix.vix,lags=60)\n",
    "_ = tsaplots.plot_pacf(vix.vix,lags=60)"
   ]
  },
  {
   "cell_type": "code",
   "execution_count": 6,
   "metadata": {},
   "outputs": [
    {
     "name": "stdout",
     "output_type": "stream",
     "text": [
      "| # Lags\t| AIC\t\t|\n",
      "--------------------------------\n",
      "| 1\t\t| 0.7452272467954373|\n",
      "| 2\t\t| 0.7452272467954373|\n",
      "| 3\t\t| 0.74555484645823|\n",
      "| 4\t\t| 0.7454751164204247|\n",
      "| 5\t\t| 0.7439639158614056|\n",
      "| 6\t\t| 0.7439639158614056|\n",
      "| 7\t\t| 0.7439639158614056|\n",
      "| 8\t\t| 0.7446201668235355|\n",
      "| 9\t\t| 0.7446201668235355|\n",
      "| 10\t\t| 0.7446201668235355|\n"
     ]
    }
   ],
   "source": [
    "#estimate the AR model parameters\n",
    "maxOrder = 10\n",
    "aic = {}\n",
    "print('| # Lags\\t| AIC\\t\\t|')\n",
    "print('--------------------------------')\n",
    "with warnings.catch_warnings():\n",
    "    warnings.filterwarnings(\"ignore\")\n",
    "    for i in range(1, maxOrder+1):\n",
    "        model=AR(vix.vix).fit(maxlag=i,ic='aic',method='mle')\n",
    "        aic[i] = model.aic\n",
    "        print('| ' + str(i) + '\\t\\t| ' + str(model.aic) + '|')"
   ]
  },
  {
   "cell_type": "markdown",
   "metadata": {},
   "source": [
    "Looking at the results of the ACF/PACF graphs and the AIC estimation, it seems we can get a good fit with 2 lags. Let's try to evaluate the Granger-causality in both directions.  \n",
    "\n",
    "**VIX Granger-causes SPX?**"
   ]
  },
  {
   "cell_type": "code",
   "execution_count": 7,
   "metadata": {},
   "outputs": [],
   "source": [
    "data=pd.concat([spx.spx,vix.vix],axis=1).values"
   ]
  },
  {
   "cell_type": "code",
   "execution_count": 14,
   "metadata": {},
   "outputs": [
    {
     "name": "stdout",
     "output_type": "stream",
     "text": [
      "\n",
      "Granger Causality\n",
      "number of lags (no zero) 1\n",
      "ssr based F test:         F=81.4857 , p=0.0000  , df_denom=1256, df_num=1\n",
      "ssr based chi2 test:   chi2=81.6803 , p=0.0000  , df=1\n",
      "likelihood ratio test: chi2=79.1400 , p=0.0000  , df=1\n",
      "parameter F test:         F=81.4857 , p=0.0000  , df_denom=1256, df_num=1\n",
      "\n",
      "Granger Causality\n",
      "number of lags (no zero) 2\n",
      "ssr based F test:         F=40.3125 , p=0.0000  , df_denom=1253, df_num=2\n",
      "ssr based chi2 test:   chi2=80.9467 , p=0.0000  , df=2\n",
      "likelihood ratio test: chi2=78.4490 , p=0.0000  , df=2\n",
      "parameter F test:         F=40.3125 , p=0.0000  , df_denom=1253, df_num=2\n"
     ]
    }
   ],
   "source": [
    "from statsmodels.tsa.stattools import grangercausalitytests\n",
    "_ = grangercausalitytests(data,maxlag=2)"
   ]
  },
  {
   "cell_type": "markdown",
   "metadata": {},
   "source": [
    "According to the results above, VIX Granger-causes SPX\n",
    "\n",
    "**SPX Granger-causes VIX?**"
   ]
  },
  {
   "cell_type": "code",
   "execution_count": 15,
   "metadata": {},
   "outputs": [
    {
     "name": "stdout",
     "output_type": "stream",
     "text": [
      "\n",
      "Granger Causality\n",
      "number of lags (no zero) 1\n",
      "ssr based F test:         F=2.5408  , p=0.1112  , df_denom=1256, df_num=1\n",
      "ssr based chi2 test:   chi2=2.5469  , p=0.1105  , df=1\n",
      "likelihood ratio test: chi2=2.5443  , p=0.1107  , df=1\n",
      "parameter F test:         F=2.5408  , p=0.1112  , df_denom=1256, df_num=1\n",
      "\n",
      "Granger Causality\n",
      "number of lags (no zero) 2\n",
      "ssr based F test:         F=4.2543  , p=0.0144  , df_denom=1253, df_num=2\n",
      "ssr based chi2 test:   chi2=8.5426  , p=0.0140  , df=2\n",
      "likelihood ratio test: chi2=8.5137  , p=0.0142  , df=2\n",
      "parameter F test:         F=4.2543  , p=0.0144  , df_denom=1253, df_num=2\n"
     ]
    }
   ],
   "source": [
    "_ = grangercausalitytests(data[:,-1::-1],maxlag=2)"
   ]
  },
  {
   "cell_type": "markdown",
   "metadata": {},
   "source": [
    "When looking at the causality in the series with 1 lag, the SPX does not Granger-causes VIX. \n",
    "However, for lags larger or equal than two the test passes.\n",
    "This possibly means that the relation between SPX and VIX is not as simple as a one-direction effect. It is perhaps easy to find movements in the SPX that affect the VIX, which in turn trigger behaviors back in the SPX.  "
   ]
  },
  {
   "cell_type": "markdown",
   "metadata": {},
   "source": [
    "We can check on whether these series are cointegrated which might help support the Granger-causality relation found:"
   ]
  },
  {
   "cell_type": "code",
   "execution_count": 18,
   "metadata": {},
   "outputs": [
    {
     "name": "stdout",
     "output_type": "stream",
     "text": [
      "The series are cointegrated\n"
     ]
    }
   ],
   "source": [
    "from statsmodels.tsa.stattools import coint\n",
    "# The series are thought to be I(2), we test their differences \n",
    "# since the coint method assumes the inputs are I(1)\n",
    "results = coint(spx.spx.diff().dropna(),vix.vix.diff().dropna(),\n",
    "                trend='c', autolag='aic')\n",
    "# if the p-value is less than a predetermined confidence level, the series are cointegrated\n",
    "if results[1]<= 0.05:\n",
    "    print(\"The series are cointegrated\")\n",
    "else:\n",
    "    print(\"The series are not cointegrated\")"
   ]
  }
 ],
 "metadata": {
  "kernelspec": {
   "display_name": "Python 3",
   "language": "python",
   "name": "python3"
  },
  "language_info": {
   "codemirror_mode": {
    "name": "ipython",
    "version": 3
   },
   "file_extension": ".py",
   "mimetype": "text/x-python",
   "name": "python",
   "nbconvert_exporter": "python",
   "pygments_lexer": "ipython3",
   "version": "3.6.6"
  }
 },
 "nbformat": 4,
 "nbformat_minor": 2
}
