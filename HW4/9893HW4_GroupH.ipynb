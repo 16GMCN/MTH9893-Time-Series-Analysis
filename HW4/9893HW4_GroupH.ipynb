{
 "cells": [
  {
   "cell_type": "markdown",
   "metadata": {},
   "source": [
    "##### Homework 4 - Group H #####\n",
    "###### Shenyi Mao, Yueting Jiang, Chenyu Zhao, Jose Ferreira ######"
   ]
  },
  {
   "cell_type": "markdown",
   "metadata": {},
   "source": [
    "**Q1**\n",
    "\n",
    "**Approach**\n",
    "* Select the VAR model lag from AIC-based optimization\n",
    "* Determine the cointegration vector and use the MLE method to find the coefficient matrix $\\Pi$\n",
    "* Run the Johansen test on the rank of $\\Pi$ to establish if the series are cointegrated."
   ]
  },
  {
   "cell_type": "code",
   "execution_count": 1,
   "metadata": {},
   "outputs": [
    {
     "data": {
      "text/plain": [
       "<Figure size 640x480 with 1 Axes>"
      ]
     },
     "metadata": {},
     "output_type": "display_data"
    }
   ],
   "source": [
    "import pandas as pd\n",
    "from statsmodels.tsa.api import VAR    \n",
    "import matplotlib.pyplot as plt\n",
    "import warnings\n",
    "warnings.filterwarnings(\"ignore\")\n",
    "\n",
    "# Load and plot the price series\n",
    "\n",
    "xls=pd.ExcelFile('TS_HW4_Data.xlsx')\n",
    "CL1=pd.read_excel(xls,sheet_name='CL1',index_col=0)\n",
    "CL2=pd.read_excel(xls,sheet_name='CL2',index_col=0)\n",
    "CL3=pd.read_excel(xls,sheet_name='CL3',index_col=0)\n",
    "\n",
    "data = pd.concat([CL1['Last Price'].rename('CL1'),\n",
    "                  CL2['Last Price'].rename('CL2'),\n",
    "                  CL3['Last Price'].rename('CL3')], \n",
    "                 axis=1)\n",
    "\n",
    "p1 = plt.plot(data['CL1'],label='CL1')\n",
    "p2 = plt.plot(data['CL2'],label='CL2')\n",
    "p3 = plt.plot(data['CL3'],label='CL3')\n",
    "plt.title('Oil Futures')\n",
    "plt.xlabel('Date')\n",
    "plt.ylabel('Price')\n",
    "plt.legend()\n",
    "plt.show()"
   ]
  },
  {
   "cell_type": "code",
   "execution_count": 2,
   "metadata": {},
   "outputs": [
    {
     "data": {
      "text/html": [
       "<table class=\"simpletable\">\n",
       "<caption>VAR Order Selection (* highlights the minimums)</caption>\n",
       "<tr>\n",
       "   <td></td>      <th>AIC</th>         <th>BIC</th>         <th>FPE</th>        <th>HQIC</th>    \n",
       "</tr>\n",
       "<tr>\n",
       "  <th>0</th>  <td>     1.749</td>  <td>     1.761</td>  <td>     5.750</td>  <td>     1.754</td> \n",
       "</tr>\n",
       "<tr>\n",
       "  <th>1</th>  <td>    -8.716</td>  <td>    -8.668</td>  <td> 0.0001639</td>  <td>    -8.698</td> \n",
       "</tr>\n",
       "<tr>\n",
       "  <th>2</th>  <td>    -8.773</td>  <td>    -8.688*</td> <td> 0.0001548</td>  <td>    -8.741*</td>\n",
       "</tr>\n",
       "<tr>\n",
       "  <th>3</th>  <td>    -8.774*</td> <td>    -8.652</td>  <td> 0.0001547*</td> <td>    -8.728</td> \n",
       "</tr>\n",
       "<tr>\n",
       "  <th>4</th>  <td>    -8.769</td>  <td>    -8.611</td>  <td> 0.0001554</td>  <td>    -8.710</td> \n",
       "</tr>\n",
       "<tr>\n",
       "  <th>5</th>  <td>    -8.768</td>  <td>    -8.572</td>  <td> 0.0001557</td>  <td>    -8.694</td> \n",
       "</tr>\n",
       "<tr>\n",
       "  <th>6</th>  <td>    -8.768</td>  <td>    -8.536</td>  <td> 0.0001557</td>  <td>    -8.680</td> \n",
       "</tr>\n",
       "<tr>\n",
       "  <th>7</th>  <td>    -8.768</td>  <td>    -8.500</td>  <td> 0.0001556</td>  <td>    -8.667</td> \n",
       "</tr>\n",
       "<tr>\n",
       "  <th>8</th>  <td>    -8.762</td>  <td>    -8.457</td>  <td> 0.0001565</td>  <td>    -8.648</td> \n",
       "</tr>\n",
       "<tr>\n",
       "  <th>9</th>  <td>    -8.759</td>  <td>    -8.417</td>  <td> 0.0001571</td>  <td>    -8.630</td> \n",
       "</tr>\n",
       "<tr>\n",
       "  <th>10</th> <td>    -8.756</td>  <td>    -8.378</td>  <td> 0.0001575</td>  <td>    -8.614</td> \n",
       "</tr>\n",
       "</table>"
      ],
      "text/plain": [
       "<class 'statsmodels.iolib.table.SimpleTable'>"
      ]
     },
     "execution_count": 2,
     "metadata": {},
     "output_type": "execute_result"
    }
   ],
   "source": [
    "# Find the lag parameter of a VAR model, using AIC as the selection \n",
    "# criteria. We want a model with a small number of lags to be used,\n",
    "# and therefore, choose a small maximum lag allowed value.\n",
    "max_lag = 10\n",
    "model = VAR(data.dropna())\n",
    "lag_choice = model.select_order(max_lag)\n",
    "lag_choice.summary()"
   ]
  },
  {
   "cell_type": "code",
   "execution_count": 3,
   "metadata": {},
   "outputs": [
    {
     "name": "stdout",
     "output_type": "stream",
     "text": [
      "The order of the VAR model is selected to be 3\n"
     ]
    }
   ],
   "source": [
    "var_p = lag_choice.selected_orders['aic']\n",
    "print('The order of the VAR model is selected to be %d'%(var_p))    "
   ]
  },
  {
   "cell_type": "markdown",
   "metadata": {},
   "source": [
    "We now use the parameter for the VAR model in the VECM form to find the coefficient matrix $\\Pi$.\n",
    "In the case of our time series, the VECM model with three lags has the form:\n",
    "$$\\Delta X_t = a + \\Pi X_{t-1} + \\Gamma_1X_{t-1} + \\Gamma_2X_{t-2} + \\Gamma_3X_{t-3}$$"
   ]
  },
  {
   "cell_type": "code",
   "execution_count": 4,
   "metadata": {},
   "outputs": [
    {
     "data": {
      "text/plain": [
       "array([[ 1.        , -2.0224039 ,  1.02398101]])"
      ]
     },
     "execution_count": 4,
     "metadata": {},
     "output_type": "execute_result"
    }
   ],
   "source": [
    "from statsmodels.tsa.vector_ar import vecm\n",
    "import numpy as np\n",
    "model = vecm.VECM(data.dropna(), deterministic=\"nc\", \n",
    "                  k_ar_diff=var_p)\n",
    "res = model.fit()\n",
    "# In the statsmodels package, the matrix Pi is given in terms of\n",
    "# components alpha and beta, the definition is the inverse of the\n",
    "# terms in the lecture and hence Pi = Alpha*Beta'\n",
    "coint_vector = np.transpose(res.beta)\n",
    "coint_vector"
   ]
  },
  {
   "cell_type": "code",
   "execution_count": 5,
   "metadata": {},
   "outputs": [
    {
     "data": {
      "text/plain": [
       "array([[ 0.20406115, -0.41269407,  0.20895474],\n",
       "       [ 0.27422505, -0.55459382,  0.28080125],\n",
       "       [ 0.25494249, -0.51559669,  0.26105627]])"
      ]
     },
     "execution_count": 5,
     "metadata": {},
     "output_type": "execute_result"
    }
   ],
   "source": [
    "pi = np.matmul(res.alpha,coint_vector)\n",
    "pi"
   ]
  },
  {
   "cell_type": "markdown",
   "metadata": {},
   "source": [
    "Now, we perform the Johansen test for cointegration with the parameters found:"
   ]
  },
  {
   "cell_type": "code",
   "execution_count": 6,
   "metadata": {
    "scrolled": true
   },
   "outputs": [
    {
     "data": {
      "text/html": [
       "<table class=\"simpletable\">\n",
       "<caption>Johansen cointegration test using trace test statistic with 5% significance level</caption>\n",
       "<tr>\n",
       "  <th>r_0</th> <th>r_1</th> <th>test statistic</th> <th>critical value</th>\n",
       "</tr>\n",
       "<tr>\n",
       "    <td>0</td>   <td>3</td>          <td>52.63</td>          <td>24.28</td>\n",
       "</tr>\n",
       "<tr>\n",
       "    <td>1</td>   <td>3</td>          <td>5.558</td>          <td>12.32</td>\n",
       "</tr>\n",
       "</table>"
      ],
      "text/plain": [
       "<class 'statsmodels.iolib.table.SimpleTable'>"
      ]
     },
     "execution_count": 6,
     "metadata": {},
     "output_type": "execute_result"
    }
   ],
   "source": [
    "# Perform the Johansen test of cointegration for each value of r until\n",
    "# the null hypothesis is rejected.\n",
    "res = vecm.select_coint_rank(data.dropna(), -1, var_p, method='trace')\n",
    "res.summary()"
   ]
  },
  {
   "cell_type": "markdown",
   "metadata": {},
   "source": [
    "The rank r is found to be 1, we can say that the series have 1 cointegrating vector and 2 unit roots.\n",
    "\n",
    "The above is an interesting result. It indicates a cointegrating vector can be defined by approximately [1, -2, 1]. The relation between the futures contract prices could be explained by this linear combination. This is most likely caused by the high correlation of the prices in the series. A linear combination of the three contracts with coefficients that add up to zero could be used as a cointegrating factor since the resulting series will become stationary (constant over time).\n",
    "\n",
    "Let's confirm this by building a basket using the coefficients given by the cointegrated vector and running an augmented Dickey-Fuller test to determine if it truly is stationary:"
   ]
  },
  {
   "cell_type": "code",
   "execution_count": 7,
   "metadata": {},
   "outputs": [
    {
     "data": {
      "image/png": "[encoded data removed]",
      "text/plain": [
       "<Figure size 432x288 with 1 Axes>"
      ]
     },
     "metadata": {},
     "output_type": "display_data"
    }
   ],
   "source": [
    "portfolio = (data['CL1'] - 2*data['CL2'] + data['CL3']).dropna()\n",
    "p4 = plt.plot(portfolio,label='Basket')\n",
    "plt.title('Oil Futures Basket, weights=[1, -2, 1]')\n",
    "plt.xlabel('Date')\n",
    "plt.ylabel('Price')\n",
    "plt.legend()\n",
    "plt.show()"
   ]
  },
  {
   "cell_type": "code",
   "execution_count": 8,
   "metadata": {},
   "outputs": [
    {
     "name": "stdout",
     "output_type": "stream",
     "text": [
      "ADF Statistic: -4.131826\n",
      "p-value: 0.000858\n",
      "\t1%: -3.436\n",
      "\t5%: -2.864\n",
      "\t10%: -2.568\n"
     ]
    }
   ],
   "source": [
    "# perform ADF test\n",
    "from statsmodels.tsa.stattools import adfuller\n",
    "test = adfuller(portfolio)\n",
    "print('ADF Statistic: %f' % test[0])\n",
    "print('p-value: %f' % test[1])\n",
    "for key, value in test[4].items():\n",
    "    print('\\t%s: %.3f' % (key, value))"
   ]
  },
  {
   "cell_type": "markdown",
   "metadata": {},
   "source": [
    "The null hypothesis of portfolio prices having unit root can be rejected, the series are stationary "
   ]
  },
  {
   "cell_type": "markdown",
   "metadata": {},
   "source": [
    "**Q2**\n",
    "\n",
    "Prove formulas (8) and (9) in Lecture Notes #4."
   ]
  },
  {
   "cell_type": "markdown",
   "metadata": {},
   "source": [
    "$$\n",
    "\\psi(L)=\\alpha+\\phi(L)\\varepsilon_t\\\\\n",
    "\\bar{x_t}= \\frac{\\phi(L)}{\\psi(L)}\\epsilon_t=\\gamma(L)\\varepsilon_t\n",
    "$$\n",
    "let $\\gamma_i$ be the coefficient of $L^{i}$, we have\n",
    "\\begin{align}\n",
    "\\Gamma(L)&=E(\\bar{x_t}\\bar{x_{t-h}})\\\\\n",
    "         &=E(\\gamma(L)\\varepsilon_t\\gamma(L)\\varepsilon_{t-h})\\\\\n",
    "         &=E(\\sum_{j=-\\infty}^{\\infty}\\gamma_j\\gamma_{j+h}\\varepsilon_{j}^{2}) \\\\\n",
    "         &=\\sigma^2 E(\\sum_{j=-\\infty}^{\\infty}\\gamma_j\\gamma_{j+h})\n",
    "\\end{align}\n",
    "\n",
    "\\begin{align}\n",
    "S_x(\\omega)&=\\frac{\\sigma^2}{2\\pi}\\sum_{j=-\\infty}^{\\infty}\\sum_{h=-\\infty}^{\\infty}\\gamma_j\\gamma_{j+h}e^{-i\\omega h}\\\\\n",
    "         &=\\frac{\\sigma^2}{2\\pi}\\sum_{j=-\\infty}^{\\infty}\\gamma_je^{i\\omega j}\\sum_{h=-\\infty}^{\\infty}\\gamma_{j+h}e^{-i\\omega (j+h)}\\\\\n",
    "         &=\\frac{\\sigma^2}{2\\pi}\\gamma(e^{i\\omega})\\gamma(e^{-i\\omega})\\\\\n",
    "         &=\\frac{\\sigma^2}{2\\pi}|\\gamma(e^{-i\\omega})|^2\\\\\n",
    "         &=\\frac{\\sigma^2}{2\\pi}\\frac{|\\phi(e^{-i\\omega})|^2}{|\\psi(e^{-i\\omega})|^2}\n",
    "\\end{align}\n",
    "\n",
    "\n",
    "for $\\omega\\neq 0$ we are able to factorize the polynomials of $\\phi(z)$ and $\\psi(z)$\n",
    "$$\n",
    "S_x(\\omega)=\\frac{\\sigma^2}{2\\pi}\\frac{|1-\\mu_1 e^{-i\\omega}|^2\\cdots|1-\\mu_q e^{-i\\omega}|^2}{|1-\\lambda_1 e^{-i\\omega}|^2\\cdots|1-\\lambda_q e^{-i\\omega}|^2}\\\\\n",
    "$$\n",
    "\n",
    "Then we have\n",
    "$$\n",
    "|1-\\mu e^{-i\\omega}|\\\\\n",
    "=|1-\\cos\\omega+i\\sin(-\\omega)|\\\\\n",
    "=\\sqrt{(1-\\mu \\cos\\omega)^2+(\\mu\\sin\\omega)^2}\\\\\n",
    "=\\sqrt{1-2\\mu \\cos \\omega +\\mu^2}\n",
    "$$\n",
    "\n",
    "$$\n",
    "S_x(\\omega)=\\frac{\\sigma^2}{2\\pi}\\frac{(1-2\\mu_1 \\cos \\omega +\\mu_1^2)\\cdots(1-2\\mu_q \\cos \\omega +\\mu_q^2)}{(1-2\\lambda_1 \\cos \\omega +\\lambda_1^2)\\cdots(1-2\\lambda_p \\cos \\omega +\\lambda_p^2)}\n",
    "$$"
   ]
  }
 ],
 "metadata": {
  "kernelspec": {
   "display_name": "Python 3",
   "language": "python",
   "name": "python3"
  },
  "language_info": {
   "codemirror_mode": {
    "name": "ipython",
    "version": 3
   },
   "file_extension": ".py",
   "mimetype": "text/x-python",
   "name": "python",
   "nbconvert_exporter": "python",
   "pygments_lexer": "ipython3",
   "version": "3.6.5"
  }
 },
 "nbformat": 4,
 "nbformat_minor": 2
}
